{
 "cells": [
  {
   "cell_type": "markdown",
   "metadata": {},
   "source": [
    "<!--Header-->\n",
    "<div>\n",
    "    <div class=\"row\" style=\"color: #4D4D4D;font-size: 15px;padding-bottom: 20px\">\n",
    "        <div class=\"col-md-7\">\n",
    "            <img src=\"http://materials.cv.uoc.edu/cdocent/common/img/logo-uoc.png\" alt=\"Logo UOC\" class=\"img-responsive\" style=\"margin:20px 0px 0px\">\n",
    "        </div>\n",
    "        <div class=\"col-md-5\">\n",
    "            <h1 style=\"margin:15px 0px 0px;font-size: 40px;\">Instalación del software de minería de datos en Python</h1>\n",
    "            <div style=\"text-align:left;margin-top: 5px;\"></div>\n",
    "        </div>\n",
    "    </div>\n",
    "    <div class=\"row\" style=\"background: #FCB517;padding: 10px 20px;\">\n",
    "        <div class=\"col-md-6\">\n",
    "            <div>PID_00233252</div>\n",
    "        </div>\n",
    "        <div class=\"col-md-6\">\n",
    "            <div style=\"text-align:right;\">Autor: Xavier Duran Albareda <span style=\"margin-left: 30px;\">Coordinación: Julià Minguillón</span></div>\n",
    "        </div>\n",
    "    </div>\n",
    "</div>\n",
    "<!--/Header-->"
   ]
  },
  {
   "cell_type": "markdown",
   "metadata": {},
   "source": [
    "<a id=\"jupyter-notebooks\"></a>\n",
    "\n",
    "## 1. Jupyter Notebooks\n",
    "\n",
    "![](images/jupyter.svg)\n",
    "\n",
    "Los notebooks son documentos que contienen código, por ejemplo `Python`, y texto enriquecido (parágrafos, ecuaciones, figuras, etcétera). De esta forma podemos ejecutar y ver nuestros análisis a la vez que los vamos documentando. Los notebooks, como este que estáis leyendo, se visualizan vía web y es necesario instalar la `Jupyter Notebook App` para hacerlos funcionar."
   ]
  },
  {
   "cell_type": "markdown",
   "metadata": {},
   "source": [
    "<a id=\"jupyter-notebooks-exemple\"></a>\n",
    "\n",
    "### 1.1 Ejemplo\n",
    "\n",
    "A continuación podemos ver un pequeño ejemplo de código en `Python` que se puede ejecutar dentro del propio notebook. En concreto, lee el dataset [Iris](https://en.wikipedia.org/wiki/Iris_flower_data_set), muy utilizado como ejemplo en minería de datos, y genera un gráfico que relaciona las dos primeras variables en los ejes (x, y) y asigna un color a la categoría a la que pertenece."
   ]
  },
  {
   "cell_type": "code",
   "execution_count": 2,
   "metadata": {
    "scrolled": false
   },
   "outputs": [
    {
     "data": {
      "text/plain": [
       "<matplotlib.collections.PathCollection at 0x2a0c5330d90>"
      ]
     },
     "execution_count": 2,
     "metadata": {},
     "output_type": "execute_result"
    },
    {
     "data": {
      "image/png": "[encoded data removed]",
      "text/plain": [
       "<Figure size 432x288 with 1 Axes>"
      ]
     },
     "metadata": {
      "needs_background": "light"
     },
     "output_type": "display_data"
    }
   ],
   "source": [
    "%matplotlib inline\n",
    "\n",
    "from sklearn.datasets import load_iris\n",
    "from matplotlib import pyplot as plt\n",
    "\n",
    "iris = load_iris()\n",
    "plt.scatter(iris.data[:,1] ,iris.data[:,2], c=iris.target, alpha=0.8)"
   ]
  },
  {
   "cell_type": "markdown",
   "metadata": {},
   "source": [
    "## 2. Distribución Anaconda\n",
    "\n",
    "La manera más sencilla de instalar todo lo que necesitaremos es usar la distribución [Anaconda](https://www.anaconda.com/distribution/).\n",
    "\n",
    "Como podéis ver en el siguiente esquema, `Anaconda` es una distribución de código abierto que agrupa los paquetes más importantes para hacer minería de datos en `Python`. Incluye el gestor de paquetes `conda` y un conjunto de librerías de data science, junto con los `Python Notebooks`.\n",
    "\n",
    "En las próximas actividades, usaremos principalmente las librerías [pandas](https://pandas.pydata.org/) y [numpy](http://www.numpy.org/) para hacer minería de datos, y [matplotlib](https://matplotlib.org/) para la visualisación."
   ]
  },
  {
   "cell_type": "markdown",
   "metadata": {},
   "source": [
    "![Anaconda Distribution](images/anaconda-distribution-diagram.png)"
   ]
  },
  {
   "cell_type": "markdown",
   "metadata": {},
   "source": [
    "### 2.1 Instalación de la distribución\n",
    "\n",
    "Escoged vuestro sistema operativo y seguid las instrucciones para instalar la distribuión `Anaconda`."
   ]
  },
  {
   "cell_type": "markdown",
   "metadata": {},
   "source": [
    "#### 2.1.1 Instalación en Linux\n",
    "\n",
    "1. Ir a [https://www.anaconda.com/download/#linux](https://www.anaconda.com/download/#linux) y bajaros la versión 3.6 de la distribución `Anaconda`.\n",
    "\n",
    "2. Abrir el terminal y ejecutar el comando `bash ~/Downloads/Anaconda3-5.0.1-Linux-x86_64.sh`. Si el fichero se llama de otra forma, adaptar el comando a vuestra situación.\n",
    "\n",
    "3. El instalador os pedirá permiso para mostrar la licencia: _\"In order to continue the installation process, please review the license agreement. Click Enter to view license terms\"_. Aceptr con la tecla `Enter`\n",
    "\n",
    "4. Leer la licencia, o hacer scroll hasta el final, y escribir `Yes` para aceptarla.\n",
    "5. El instalador os pedirá el directorio donde lo queréis instalar. Si aceptáis, el directorio por defecto será `/home/<user>/anaconda3`\n",
    "6. Ahora os pedirá si queréis añadir el path de Anaconda en el `.bashrc`. Decirle que sí.\n",
    "7. Ejecutar el comando `source ~/.bashrc` para finalizar la instalación.\n",
    "8. También en el terminal, ejecutar el comando `anaconda-navigator`. Se os obrirá un navegador con la aplicación Anaconda."
   ]
  },
  {
   "cell_type": "markdown",
   "metadata": {},
   "source": [
    "#### 2.1.2 Instalación en Windows\n",
    "\n",
    "1. Ir a https://www.anaconda.com/download/#windows y bajaros la versión 3.6 de la distribución `Anaconda`.\n",
    "2. Hacer doble-clic en el instalador.\n",
    "3. Clicar `Siguiente`.\n",
    "4. Aceptar la licencia.\n",
    "5. Seleccionar `Solo yo` y clicar `Siguiente`.\n",
    "6. Seleccionar la carpeta de instalación y clicar `Siguiente`.\n",
    "7. A continuación os saldrá un diálogo con la opción de añadir Anaconda como variable de entorno en el `PATH`. No seleccionar esta opción. Seleccionar la opción de usar Anaconda como la versión por defecto de Python 3.6. Clicar `Siguiente`.\n",
    "8. Clicar el botón `Instalar` y esperar hasta que se acabe la instalación.\n",
    "9. Podéis abrir la aplicación desde el menú de inicio de Windows."
   ]
  },
  {
   "cell_type": "markdown",
   "metadata": {},
   "source": [
    "#### 2.1.3 Instalación en macOS\n",
    "\n",
    "1. Ir a https://www.anaconda.com/download/#macos y bajaros la versión 3.6 de la distribución `Anaconda`.\n",
    "2. Hcer doble-clic en el instalador.\n",
    "3. Pasar las pantallas de la Introducción, el Readme y la Licencia.\n",
    "4. Seleccionar `Instalar solo para mi` y clicar `Continuar`.\n",
    "5. Clicar el botón `Instalar` y esperar hasta que se acabe la instalación.\n",
    "9. Podéis abrir la aplicación desde el `Launchpad`."
   ]
  },
  {
   "cell_type": "markdown",
   "metadata": {},
   "source": [
    "### 2.2 Anaconda Navigator\n",
    "\n",
    "El `Anaconda Navigator` es una interfície gráfica de usuario (GUI) que permite ejecutar las aplicaciones incluidas en la distribución e instalar paquetes sin tener que usar la línia de comandos.\n",
    "\n",
    "![Anaconda Navigator](images/navigator-home-1-6.png)"
   ]
  },
  {
   "cell_type": "markdown",
   "metadata": {},
   "source": [
    "### 2.3 Nuestro primer notebook\n",
    "\n",
    "Nosotros usaremos básicamente los `Jupyter Notebooks`, como hemos comentado antes. Si abrimos la aplicación de los `Jupyter Notebooks` nos aparecerá el `Jupyter dashboard`. Para crear un nuevo notebook, clicamos el botón `New` y seleccionamos `Python 3`.\n",
    "\n",
    "![New Jupyter notebook](images/jupyter-notebook-list-empty-kernels.png)"
   ]
  },
  {
   "cell_type": "markdown",
   "metadata": {},
   "source": [
    "Una vez creado, ya podemos empezar a editar nuestro primer notebook. En el menú de ayuda, podéis consultar el `User Interface Tour` para familiarizaros con el entorno.\n",
    "\n",
    "![Notebook tour](images/notebook-tour.gif)"
   ]
  },
  {
   "cell_type": "markdown",
   "metadata": {},
   "source": [
    "<!--Footer-->\n",
    " <div style=\"background: #333333;padding: 35px 0px;margin-top: 25px;\">\n",
    "    <div class=\"row\">\n",
    "     <div class=\"col-sm-12\">\n",
    "        <img src=\"http://materials.cv.uoc.edu/cdocent/common/img/logo-uoc-bottom.png\" alt=\"Logo UOC\" class=\"img-responsive\" style=\"margin: 0 auto; display: block;\">\n",
    "    </div>\n",
    "</div>\n",
    "</div>\n",
    "<!--/Footer-->"
   ]
  }
 ],
 "metadata": {
  "kernelspec": {
   "display_name": "Python 3",
   "language": "python",
   "name": "python3"
  },
  "language_info": {
   "codemirror_mode": {
    "name": "ipython",
    "version": 3
   },
   "file_extension": ".py",
   "mimetype": "text/x-python",
   "name": "python",
   "nbconvert_exporter": "python",
   "pygments_lexer": "ipython3",
   "version": "3.8.8"
  }
 },
 "nbformat": 4,
 "nbformat_minor": 1
}
